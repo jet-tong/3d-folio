{
 "cells": [
  {
   "cell_type": "code",
   "execution_count": 1,
   "metadata": {},
   "outputs": [
    {
     "data": {
      "text/plain": [
       "['#3c86f5', '#438eff', '#92bcfc', '#5897f5']"
      ]
     },
     "execution_count": 1,
     "metadata": {},
     "output_type": "execute_result"
    }
   ],
   "source": [
    "from colour import Color\n",
    "\n",
    "def convert_to_blue(hex_color):\n",
    "    color = Color(hex_color)\n",
    "    # Keep the luminance and saturation similar\n",
    "    luminance = color.get_luminance()\n",
    "    saturation = color.get_saturation()\n",
    "    # Create a blue color with the same luminance and saturation\n",
    "    blue_color = Color(hue=0.6, saturation=saturation, luminance=luminance)\n",
    "    return blue_color.hex_l\n",
    "\n",
    "# Original colors\n",
    "original_colors = [\"#f5883c\", \"#ff9043\", \"#fccf92\", \"#f5aa58\"]\n",
    "\n",
    "# Convert each color to a shade of blue\n",
    "blue_shades = [convert_to_blue(color) for color in original_colors]\n",
    "blue_shades\n",
    "\n",
    "# ['#3c8df5', '#4394ff', '#92cfff', '#58aaf5']\n"
   ]
  }
 ],
 "metadata": {
  "kernelspec": {
   "display_name": "Python 3",
   "language": "python",
   "name": "python3"
  },
  "language_info": {
   "codemirror_mode": {
    "name": "ipython",
    "version": 3
   },
   "file_extension": ".py",
   "mimetype": "text/x-python",
   "name": "python",
   "nbconvert_exporter": "python",
   "pygments_lexer": "ipython3",
   "version": "3.12.1"
  }
 },
 "nbformat": 4,
 "nbformat_minor": 2
}
